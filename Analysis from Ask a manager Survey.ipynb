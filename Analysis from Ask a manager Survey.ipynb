{
 "cells": [
  {
   "cell_type": "markdown",
   "id": "4a9fd4da",
   "metadata": {},
   "source": [
    "# Goal: Use Ask a Manager survey to analyze different trends in the data.\n",
    "\n"
   ]
  },
  {
   "cell_type": "code",
   "execution_count": 43,
   "id": "5c5c480c",
   "metadata": {},
   "outputs": [],
   "source": [
    "\n",
    "import pandas as pd\n",
    "import seaborn as sns\n",
    "import matplotlib.pyplot as plt\n",
    "import numpy as np \n",
    "import warnings\n",
    "warnings.filterwarnings(\"ignore\")\n"
   ]
  },
  {
   "cell_type": "code",
   "execution_count": 44,
   "id": "9c71beaa",
   "metadata": {},
   "outputs": [
    {
     "name": "stdout",
     "output_type": "stream",
     "text": [
      "Index(['Timestamp', 'How old are you?', 'Industry', 'Functional area of job',\n",
      "       'Job title', 'Job title - additional context', 'Annual salary (gross)',\n",
      "       'Additional monetary compensation', 'Currency', 'Currency - other',\n",
      "       'Income - additional context', 'Country', 'State', 'City',\n",
      "       'Remote or on-site?', 'Years of experience, overall',\n",
      "       'Years of experience in field', 'Highest level of education completed',\n",
      "       'Gender', 'Race'],\n",
      "      dtype='object')\n"
     ]
    }
   ],
   "source": [
    "#load the data\n",
    "df = pd.read_csv('Ask A Manager Salary Survey 2023.csv')\n",
    "print(df.columns)\n"
   ]
  },
  {
   "cell_type": "code",
   "execution_count": 15,
   "id": "7e02b757",
   "metadata": {},
   "outputs": [
    {
     "data": {
      "text/html": [
       "<div>\n",
       "<style scoped>\n",
       "    .dataframe tbody tr th:only-of-type {\n",
       "        vertical-align: middle;\n",
       "    }\n",
       "\n",
       "    .dataframe tbody tr th {\n",
       "        vertical-align: top;\n",
       "    }\n",
       "\n",
       "    .dataframe thead th {\n",
       "        text-align: right;\n",
       "    }\n",
       "</style>\n",
       "<table border=\"1\" class=\"dataframe\">\n",
       "  <thead>\n",
       "    <tr style=\"text-align: right;\">\n",
       "      <th></th>\n",
       "      <th>Timestamp</th>\n",
       "      <th>How old are you?</th>\n",
       "      <th>Industry</th>\n",
       "      <th>Functional area of job</th>\n",
       "      <th>Job title</th>\n",
       "      <th>Job title - additional context</th>\n",
       "      <th>Annual salary (gross)</th>\n",
       "      <th>Additional monetary compensation</th>\n",
       "      <th>Currency</th>\n",
       "      <th>Currency - other</th>\n",
       "      <th>Income - additional context</th>\n",
       "      <th>Country</th>\n",
       "      <th>State</th>\n",
       "      <th>City</th>\n",
       "      <th>Remote or on-site?</th>\n",
       "      <th>Years of experience, overall</th>\n",
       "      <th>Years of experience in field</th>\n",
       "      <th>Highest level of education completed</th>\n",
       "      <th>Gender</th>\n",
       "      <th>Race</th>\n",
       "    </tr>\n",
       "  </thead>\n",
       "  <tbody>\n",
       "    <tr>\n",
       "      <th>0</th>\n",
       "      <td>4/11/2023 11:02:00</td>\n",
       "      <td>35-44</td>\n",
       "      <td>Government &amp; Public Administration</td>\n",
       "      <td>Engineering or Manufacturing</td>\n",
       "      <td>Materials Engineer</td>\n",
       "      <td>NaN</td>\n",
       "      <td>125000</td>\n",
       "      <td>800.0</td>\n",
       "      <td>USD</td>\n",
       "      <td>NaN</td>\n",
       "      <td>NaN</td>\n",
       "      <td>United States</td>\n",
       "      <td>California</td>\n",
       "      <td>Ridgecrest</td>\n",
       "      <td>On-site</td>\n",
       "      <td>11-20 years</td>\n",
       "      <td>11-20 years</td>\n",
       "      <td>College degree</td>\n",
       "      <td>Man</td>\n",
       "      <td>White</td>\n",
       "    </tr>\n",
       "    <tr>\n",
       "      <th>1</th>\n",
       "      <td>4/11/2023 11:02:07</td>\n",
       "      <td>25-34</td>\n",
       "      <td>Galleries, Libraries, Archives &amp; Museums</td>\n",
       "      <td>Galleries, Libraries, Archives &amp; Museums</td>\n",
       "      <td>Assistant Branch Manager</td>\n",
       "      <td>NaN</td>\n",
       "      <td>71000</td>\n",
       "      <td>0.0</td>\n",
       "      <td>USD</td>\n",
       "      <td>NaN</td>\n",
       "      <td>NaN</td>\n",
       "      <td>United States</td>\n",
       "      <td>Virginia</td>\n",
       "      <td>Fairfax County</td>\n",
       "      <td>On-site</td>\n",
       "      <td>8-10 years</td>\n",
       "      <td>5-7 years</td>\n",
       "      <td>Master's degree</td>\n",
       "      <td>Man</td>\n",
       "      <td>White</td>\n",
       "    </tr>\n",
       "  </tbody>\n",
       "</table>\n",
       "</div>"
      ],
      "text/plain": [
       "            Timestamp How old are you?  \\\n",
       "0  4/11/2023 11:02:00            35-44   \n",
       "1  4/11/2023 11:02:07            25-34   \n",
       "\n",
       "                                   Industry  \\\n",
       "0        Government & Public Administration   \n",
       "1  Galleries, Libraries, Archives & Museums   \n",
       "\n",
       "                     Functional area of job                 Job title  \\\n",
       "0              Engineering or Manufacturing        Materials Engineer   \n",
       "1  Galleries, Libraries, Archives & Museums  Assistant Branch Manager   \n",
       "\n",
       "  Job title - additional context  Annual salary (gross)  \\\n",
       "0                            NaN                 125000   \n",
       "1                            NaN                  71000   \n",
       "\n",
       "   Additional monetary compensation Currency Currency - other  \\\n",
       "0                             800.0      USD              NaN   \n",
       "1                               0.0      USD              NaN   \n",
       "\n",
       "  Income - additional context        Country       State            City  \\\n",
       "0                         NaN  United States  California      Ridgecrest   \n",
       "1                         NaN  United States    Virginia  Fairfax County   \n",
       "\n",
       "  Remote or on-site? Years of experience, overall  \\\n",
       "0            On-site                  11-20 years   \n",
       "1            On-site                   8-10 years   \n",
       "\n",
       "  Years of experience in field Highest level of education completed Gender  \\\n",
       "0                  11-20 years                       College degree    Man   \n",
       "1                    5-7 years                      Master's degree    Man   \n",
       "\n",
       "    Race  \n",
       "0  White  \n",
       "1  White  "
      ]
     },
     "execution_count": 15,
     "metadata": {},
     "output_type": "execute_result"
    }
   ],
   "source": [
    "df.head(2)"
   ]
  },
  {
   "cell_type": "code",
   "execution_count": 45,
   "id": "9e0ea34e",
   "metadata": {},
   "outputs": [],
   "source": [
    "#convert to lower case to get unique records\n",
    "df['job_title'] = df['Job title'].str.lower()\n",
    "df['education'] = df['Highest level of education completed'].str.lower()\n",
    "\n",
    "\n",
    "#standardize values in job title by removing white space/ renaming senior\n",
    "\n",
    "df['job_title'] = df['job_title'].str.strip()\n",
    "\n",
    "title_remapping={'sr':'senior', 'sr.': 'senior'}\n",
    "\n",
    "df['job_title'] = df['job_title'].apply(lambda x: title_remapping.get(x,x))\n",
    "\n",
    "# create total compenstation column \n",
    "df['total_comp'] = df['Annual salary (gross)'] + df['Additional monetary compensation']\n"
   ]
  },
  {
   "cell_type": "markdown",
   "id": "a6dbf579",
   "metadata": {},
   "source": [
    "Explore the data"
   ]
  },
  {
   "cell_type": "code",
   "execution_count": 46,
   "id": "32a8d4b5",
   "metadata": {},
   "outputs": [
    {
     "name": "stdout",
     "output_type": "stream",
     "text": [
      "How many observations? 16888\n"
     ]
    }
   ],
   "source": [
    "print('How many observations?', df.shape[0])"
   ]
  },
  {
   "cell_type": "code",
   "execution_count": 49,
   "id": "e446dd49",
   "metadata": {},
   "outputs": [
    {
     "name": "stdout",
     "output_type": "stream",
     "text": [
      "How many unique job titles? 8819\n"
     ]
    }
   ],
   "source": [
    "print('How many unique job titles?', df.job_title.nunique())"
   ]
  },
  {
   "cell_type": "code",
   "execution_count": 60,
   "id": "6be00f4c",
   "metadata": {},
   "outputs": [
    {
     "name": "stdout",
     "output_type": "stream",
     "text": [
      "Submissions by Top 5 most represented countries, percent:\n"
     ]
    },
    {
     "data": {
      "text/html": [
       "<div>\n",
       "<style scoped>\n",
       "    .dataframe tbody tr th:only-of-type {\n",
       "        vertical-align: middle;\n",
       "    }\n",
       "\n",
       "    .dataframe tbody tr th {\n",
       "        vertical-align: top;\n",
       "    }\n",
       "\n",
       "    .dataframe thead th {\n",
       "        text-align: right;\n",
       "    }\n",
       "</style>\n",
       "<table border=\"1\" class=\"dataframe\">\n",
       "  <thead>\n",
       "    <tr style=\"text-align: right;\">\n",
       "      <th></th>\n",
       "      <th>proportion</th>\n",
       "    </tr>\n",
       "    <tr>\n",
       "      <th>Country</th>\n",
       "      <th></th>\n",
       "    </tr>\n",
       "  </thead>\n",
       "  <tbody>\n",
       "    <tr>\n",
       "      <th>United States</th>\n",
       "      <td>82.828044</td>\n",
       "    </tr>\n",
       "    <tr>\n",
       "      <th>Canada</th>\n",
       "      <td>6.501658</td>\n",
       "    </tr>\n",
       "    <tr>\n",
       "      <th>United Kingdom</th>\n",
       "      <td>5.086452</td>\n",
       "    </tr>\n",
       "    <tr>\n",
       "      <th>Australia</th>\n",
       "      <td>1.652061</td>\n",
       "    </tr>\n",
       "    <tr>\n",
       "      <th>Germany</th>\n",
       "      <td>0.787541</td>\n",
       "    </tr>\n",
       "  </tbody>\n",
       "</table>\n",
       "</div>"
      ],
      "text/plain": [
       "                proportion\n",
       "Country                   \n",
       "United States    82.828044\n",
       "Canada            6.501658\n",
       "United Kingdom    5.086452\n",
       "Australia         1.652061\n",
       "Germany           0.787541"
      ]
     },
     "execution_count": 60,
     "metadata": {},
     "output_type": "execute_result"
    }
   ],
   "source": [
    "print('Top 5 most represented countries in percent:')\n",
    "(df['Country'].value_counts(normalize=True)*100).to_frame().head(5)\n"
   ]
  },
  {
   "cell_type": "code",
   "execution_count": 78,
   "id": "21842035",
   "metadata": {},
   "outputs": [
    {
     "name": "stdout",
     "output_type": "stream",
     "text": [
      "Average salary by country & count of submissions:\n"
     ]
    },
    {
     "data": {
      "text/html": [
       "<div>\n",
       "<style scoped>\n",
       "    .dataframe tbody tr th:only-of-type {\n",
       "        vertical-align: middle;\n",
       "    }\n",
       "\n",
       "    .dataframe tbody tr th {\n",
       "        vertical-align: top;\n",
       "    }\n",
       "\n",
       "    .dataframe thead th {\n",
       "        text-align: right;\n",
       "    }\n",
       "</style>\n",
       "<table border=\"1\" class=\"dataframe\">\n",
       "  <thead>\n",
       "    <tr style=\"text-align: right;\">\n",
       "      <th></th>\n",
       "      <th>Annual salary (gross)</th>\n",
       "      <th>Timestamp</th>\n",
       "    </tr>\n",
       "    <tr>\n",
       "      <th>Country</th>\n",
       "      <th></th>\n",
       "      <th></th>\n",
       "    </tr>\n",
       "  </thead>\n",
       "  <tbody>\n",
       "    <tr>\n",
       "      <th>United States</th>\n",
       "      <td>101354.0</td>\n",
       "      <td>13988</td>\n",
       "    </tr>\n",
       "    <tr>\n",
       "      <th>Canada</th>\n",
       "      <td>90466.0</td>\n",
       "      <td>1098</td>\n",
       "    </tr>\n",
       "    <tr>\n",
       "      <th>United Kingdom</th>\n",
       "      <td>54926.0</td>\n",
       "      <td>859</td>\n",
       "    </tr>\n",
       "    <tr>\n",
       "      <th>Australia</th>\n",
       "      <td>114679.0</td>\n",
       "      <td>279</td>\n",
       "    </tr>\n",
       "    <tr>\n",
       "      <th>Germany</th>\n",
       "      <td>69540.0</td>\n",
       "      <td>133</td>\n",
       "    </tr>\n",
       "    <tr>\n",
       "      <th>Ireland</th>\n",
       "      <td>69719.0</td>\n",
       "      <td>73</td>\n",
       "    </tr>\n",
       "    <tr>\n",
       "      <th>New Zealand</th>\n",
       "      <td>104053.0</td>\n",
       "      <td>64</td>\n",
       "    </tr>\n",
       "    <tr>\n",
       "      <th>Sweden</th>\n",
       "      <td>465980.0</td>\n",
       "      <td>31</td>\n",
       "    </tr>\n",
       "    <tr>\n",
       "      <th>Netherlands</th>\n",
       "      <td>70323.0</td>\n",
       "      <td>27</td>\n",
       "    </tr>\n",
       "    <tr>\n",
       "      <th>France</th>\n",
       "      <td>45354.0</td>\n",
       "      <td>26</td>\n",
       "    </tr>\n",
       "  </tbody>\n",
       "</table>\n",
       "</div>"
      ],
      "text/plain": [
       "                Annual salary (gross)  Timestamp\n",
       "Country                                         \n",
       "United States                101354.0      13988\n",
       "Canada                        90466.0       1098\n",
       "United Kingdom                54926.0        859\n",
       "Australia                    114679.0        279\n",
       "Germany                       69540.0        133\n",
       "Ireland                       69719.0         73\n",
       "New Zealand                  104053.0         64\n",
       "Sweden                       465980.0         31\n",
       "Netherlands                   70323.0         27\n",
       "France                        45354.0         26"
      ]
     },
     "execution_count": 78,
     "metadata": {},
     "output_type": "execute_result"
    }
   ],
   "source": [
    "\n",
    "print('Average salary by country & count of submissions:')\n",
    "df.groupby('Country').agg({\n",
    "    'Annual salary (gross)':'mean', 'Timestamp':'count'\n",
    "    }).sort_values(by='Timestamp', ascending=False).round(0).head(10)\n"
   ]
  },
  {
   "cell_type": "code",
   "execution_count": 81,
   "id": "1e2e6c6c",
   "metadata": {},
   "outputs": [
    {
     "data": {
      "text/plain": [
       "Country\n",
       "United States                                                  13988\n",
       "Canada                                                          1098\n",
       "United Kingdom                                                   859\n",
       "Australia                                                        279\n",
       "Germany                                                          133\n",
       "                                                               ...  \n",
       "International- mainly US, Canada, Australia, India, Italy          1\n",
       "International Company with remote work and travel in the US        1\n",
       "Indonesia                                                          1\n",
       "Iceland for a U.S. company                                         1\n",
       "MENA                                                               1\n",
       "Name: Timestamp, Length: 119, dtype: int64"
      ]
     },
     "execution_count": 81,
     "metadata": {},
     "output_type": "execute_result"
    }
   ],
   "source": [
    "df.groupby('Country')['Timestamp'].count().sort_values(ascending=False)"
   ]
  },
  {
   "cell_type": "code",
   "execution_count": null,
   "id": "ac13274d",
   "metadata": {},
   "outputs": [],
   "source": []
  },
  {
   "cell_type": "code",
   "execution_count": 33,
   "id": "a27618b0",
   "metadata": {},
   "outputs": [
    {
     "data": {
      "text/plain": [
       "array(['materials engineer', 'assistant branch manager',\n",
       "       'director of financial aid', ..., 'dance instructor',\n",
       "       'wedding photographer', 'powertrain integration engineer'],\n",
       "      dtype=object)"
      ]
     },
     "execution_count": 33,
     "metadata": {},
     "output_type": "execute_result"
    }
   ],
   "source": [
    "df['job_title'].unique()"
   ]
  },
  {
   "cell_type": "code",
   "execution_count": 27,
   "id": "a6370365",
   "metadata": {},
   "outputs": [
    {
     "data": {
      "text/plain": [
       "education\n",
       "college degree                                       7623\n",
       "master's degree                                      5646\n",
       "some college                                         1147\n",
       "phd                                                  1080\n",
       "professional degree (md, jd, etc.)                    882\n",
       "                                                     ... \n",
       "professional quals                                      1\n",
       "mba student                                             1\n",
       "professional degree (mlis) and phd                      1\n",
       "education specialist (ed.s.                             1\n",
       "associates degree in social & behavioral sciences       1\n",
       "Name: count, Length: 178, dtype: int64"
      ]
     },
     "execution_count": 27,
     "metadata": {},
     "output_type": "execute_result"
    }
   ],
   "source": [
    "df['education'].value_counts(dropna=False)"
   ]
  },
  {
   "cell_type": "code",
   "execution_count": null,
   "id": "5c4dda89",
   "metadata": {},
   "outputs": [],
   "source": []
  }
 ],
 "metadata": {
  "kernelspec": {
   "display_name": "Python 3 (ipykernel)",
   "language": "python",
   "name": "python3"
  },
  "language_info": {
   "codemirror_mode": {
    "name": "ipython",
    "version": 3
   },
   "file_extension": ".py",
   "mimetype": "text/x-python",
   "name": "python",
   "nbconvert_exporter": "python",
   "pygments_lexer": "ipython3",
   "version": "3.11.5"
  }
 },
 "nbformat": 4,
 "nbformat_minor": 5
}
